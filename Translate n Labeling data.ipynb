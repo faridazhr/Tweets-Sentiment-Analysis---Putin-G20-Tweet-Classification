{
 "cells": [
  {
   "cell_type": "code",
   "execution_count": 43,
   "metadata": {},
   "outputs": [
    {
     "name": "stdout",
     "output_type": "stream",
     "text": [
      "Requirement already satisfied: googletrans==4.0.0rc1 in c:\\users\\farid\\anaconda3\\lib\\site-packages (4.0.0rc1)\n",
      "Requirement already satisfied: httpx==0.13.3 in c:\\users\\farid\\anaconda3\\lib\\site-packages (from googletrans==4.0.0rc1) (0.13.3)\n",
      "Requirement already satisfied: sniffio in c:\\users\\farid\\anaconda3\\lib\\site-packages (from httpx==0.13.3->googletrans==4.0.0rc1) (1.2.0)\n",
      "Requirement already satisfied: certifi in c:\\users\\farid\\anaconda3\\lib\\site-packages (from httpx==0.13.3->googletrans==4.0.0rc1) (2021.10.8)\n",
      "Requirement already satisfied: idna==2.* in c:\\users\\farid\\anaconda3\\lib\\site-packages (from httpx==0.13.3->googletrans==4.0.0rc1) (2.10)\n",
      "Requirement already satisfied: httpcore==0.9.* in c:\\users\\farid\\anaconda3\\lib\\site-packages (from httpx==0.13.3->googletrans==4.0.0rc1) (0.9.1)\n",
      "Requirement already satisfied: hstspreload in c:\\users\\farid\\anaconda3\\lib\\site-packages (from httpx==0.13.3->googletrans==4.0.0rc1) (2021.12.1)\n",
      "Requirement already satisfied: chardet==3.* in c:\\users\\farid\\anaconda3\\lib\\site-packages (from httpx==0.13.3->googletrans==4.0.0rc1) (3.0.4)\n",
      "Requirement already satisfied: rfc3986<2,>=1.3 in c:\\users\\farid\\anaconda3\\lib\\site-packages (from httpx==0.13.3->googletrans==4.0.0rc1) (1.5.0)\n",
      "Requirement already satisfied: h2==3.* in c:\\users\\farid\\anaconda3\\lib\\site-packages (from httpcore==0.9.*->httpx==0.13.3->googletrans==4.0.0rc1) (3.2.0)\n",
      "Requirement already satisfied: h11<0.10,>=0.8 in c:\\users\\farid\\anaconda3\\lib\\site-packages (from httpcore==0.9.*->httpx==0.13.3->googletrans==4.0.0rc1) (0.9.0)\n",
      "Requirement already satisfied: hyperframe<6,>=5.2.0 in c:\\users\\farid\\anaconda3\\lib\\site-packages (from h2==3.*->httpcore==0.9.*->httpx==0.13.3->googletrans==4.0.0rc1) (5.2.0)\n",
      "Requirement already satisfied: hpack<4,>=3.0 in c:\\users\\farid\\anaconda3\\lib\\site-packages (from h2==3.*->httpcore==0.9.*->httpx==0.13.3->googletrans==4.0.0rc1) (3.0.0)\n",
      "Note: you may need to restart the kernel to use updated packages.\n"
     ]
    }
   ],
   "source": [
    "%pip install googletrans==4.0.0rc1"
   ]
  },
  {
   "cell_type": "code",
   "execution_count": 4,
   "metadata": {},
   "outputs": [],
   "source": [
    "# from deep_translator import MyMemoryTranslator\n",
    "from googletrans import Translator\n",
    "import pandas as pd\n",
    "import numpy as np"
   ]
  },
  {
   "cell_type": "code",
   "execution_count": 6,
   "metadata": {},
   "outputs": [
    {
     "name": "stdout",
     "output_type": "stream",
     "text": [
      "Hi, how are you\n"
     ]
    }
   ],
   "source": [
    "# # Test Translator\n",
    "# translator = Translator()\n",
    "# ar = translator.translate('hai apa kabar', dest='en').text\n",
    "# print(ar)"
   ]
  },
  {
   "cell_type": "code",
   "execution_count": 7,
   "metadata": {},
   "outputs": [
    {
     "name": "stdout",
     "output_type": "stream",
     "text": [
      "                 created       screenName  \\\n",
      "0    2022-04-28 10:18:24         amemeeya   \n",
      "1    2022-04-28 08:07:39  Republi89218361   \n",
      "2    2022-04-28 06:52:51     uauauauauaus   \n",
      "3    2022-04-28 06:50:00    lutfiansyahi1   \n",
      "4    2022-04-28 06:49:57  PapuaWonderfull   \n",
      "...                  ...              ...   \n",
      "1956 2022-04-20 23:53:51          bwd__12   \n",
      "1957 2022-04-20 16:15:41        koyo_joyo   \n",
      "1958 2022-04-20 13:45:09    IrwandiIwan69   \n",
      "1959 2022-04-20 10:27:22         loveTOBA   \n",
      "1960 2022-04-20 04:47:24     nunutulamaNU   \n",
      "\n",
      "                                                   text  \n",
      "0     @animefess_ Owi Tiga Periode (Orang Wibu Tidak...  \n",
      "1     @alisyarief Lanjut tiga periode dah yuk rame2 ...  \n",
      "2     @sasasayatusa_ swacana masa jabatan presiden t...  \n",
      "3     @sasasayatusa_ yang ingin tiga periode atau le...  \n",
      "4     @sasasayatusa_ Relawan Jokowi Mania Joman meny...  \n",
      "...                                                 ...  \n",
      "1956  @Durianjatuh2 #TolakDemoHamasiswa\\n\\nsudah jel...  \n",
      "1957  @Sangkuriang5551 Kan apa gw bilang si kadrun m...  \n",
      "1958  @Hasianmu__ @djum1607__ Lanjut ngwe sampe 3per...  \n",
      "1959  @Rakyat_Recehan makanya si ahy angkat teros wa...  \n",
      "1960  @ApriliaLin PKS mau jualan apa lagi selain isu...  \n",
      "\n",
      "[1961 rows x 3 columns]\n"
     ]
    }
   ],
   "source": [
    "df = pd.read_excel (r'.\\Clean Data-3.0-removed duplicates.xlsx')\n",
    "print(df)"
   ]
  },
  {
   "cell_type": "code",
   "execution_count": 15,
   "metadata": {},
   "outputs": [],
   "source": [
    "import re\n",
    "def remove_emojis(data):\n",
    "    emoj = re.compile(\"[\"\n",
    "        u\"\\U0001F600-\\U0001F64F\"  # emoticons\n",
    "        u\"\\U0001F300-\\U0001F5FF\"  # symbols & pictographs\n",
    "        u\"\\U0001F680-\\U0001F6FF\"  # transport & map symbols\n",
    "        u\"\\U0001F1E0-\\U0001F1FF\"  # flags (iOS)\n",
    "        u\"\\U00002500-\\U00002BEF\"  # chinese char\n",
    "        u\"\\U00002702-\\U000027B0\"\n",
    "        u\"\\U00002702-\\U000027B0\"\n",
    "        u\"\\U000024C2-\\U0001F251\"\n",
    "        u\"\\U0001f926-\\U0001f937\"\n",
    "        u\"\\U00010000-\\U0010ffff\"\n",
    "        u\"\\u2640-\\u2642\" \n",
    "        u\"\\u2600-\\u2B55\"\n",
    "        u\"\\u200d\"\n",
    "        u\"\\u23cf\"\n",
    "        u\"\\u23e9\"\n",
    "        u\"\\u231a\"\n",
    "        u\"\\ufe0f\"  # dingbats\n",
    "        u\"\\u3030\"\n",
    "                      \"]+\", re.UNICODE)\n",
    "    return re.sub(emoj, '', data)"
   ]
  },
  {
   "cell_type": "code",
   "execution_count": 83,
   "metadata": {},
   "outputs": [
    {
     "name": "stdout",
     "output_type": "stream",
     "text": [
      "1961\n"
     ]
    }
   ],
   "source": [
    "texts = df['text'].values.tolist()\n",
    "texts_noEmoji = []\n",
    "\n",
    "for i in texts:\n",
    "    a = remove_emojis(i)\n",
    "    texts_noEmoji.append(a)\n",
    "print(len(texts_noEmoji))\n"
   ]
  },
  {
   "cell_type": "code",
   "execution_count": 88,
   "metadata": {},
   "outputs": [
    {
     "name": "stdout",
     "output_type": "stream",
     "text": [
      "200\n",
      "200\n",
      "200\n",
      "200\n",
      "200\n",
      "200\n",
      "200\n",
      "200\n",
      "200\n",
      "161\n"
     ]
    }
   ],
   "source": [
    "teks1 = texts_noEmoji[:200]\n",
    "print(len(teks1))\n",
    "\n",
    "teks2 = texts_noEmoji[200:400]\n",
    "print(len(teks2))\n",
    "\n",
    "teks3 = texts_noEmoji[400:600]\n",
    "print(len(teks3))\n",
    "\n",
    "teks4 = texts_noEmoji[600:800]\n",
    "print(len(teks4))\n",
    "\n",
    "teks5 = texts_noEmoji[600:800]\n",
    "print(len(teks5))\n",
    "\n",
    "teks6 = texts_noEmoji[800:1000]\n",
    "print(len(teks6))\n",
    "\n",
    "teks7 = texts_noEmoji[1000:1200]\n",
    "print(len(teks7))\n",
    "\n",
    "teks8 = texts_noEmoji[1200:1400]\n",
    "print(len(teks8))\n",
    "\n",
    "teks9 = texts_noEmoji[1600:1800]\n",
    "print(len(teks9))\n",
    "\n",
    "teks10 = texts_noEmoji[1800:]\n",
    "print(len(teks10))"
   ]
  },
  {
   "cell_type": "code",
   "execution_count": 89,
   "metadata": {},
   "outputs": [
    {
     "name": "stdout",
     "output_type": "stream",
     "text": [
      "200\n"
     ]
    }
   ],
   "source": [
    "translator = Translator()\n",
    "trans1=[]\n",
    "for i in teks1:    \n",
    "    translated = translator.translate(i, dest='en').text\n",
    "    trans1.append(translated)\n",
    "print(len(trans1))"
   ]
  },
  {
   "cell_type": "code",
   "execution_count": 94,
   "metadata": {},
   "outputs": [
    {
     "name": "stdout",
     "output_type": "stream",
     "text": [
      "200\n"
     ]
    }
   ],
   "source": [
    "trans2=[]\n",
    "for i in teks2:    \n",
    "    translated = translator.translate(i, dest='en').text\n",
    "    trans2.append(translated)\n",
    "print(len(trans2))"
   ]
  },
  {
   "cell_type": "code",
   "execution_count": 99,
   "metadata": {},
   "outputs": [
    {
     "name": "stdout",
     "output_type": "stream",
     "text": [
      "200\n"
     ]
    }
   ],
   "source": [
    "trans3=[]\n",
    "for i in teks3:    \n",
    "    translated = translator.translate(i, dest='en').text\n",
    "    trans3.append(translated)\n",
    "print(len(trans3))"
   ]
  },
  {
   "cell_type": "code",
   "execution_count": 100,
   "metadata": {},
   "outputs": [
    {
     "name": "stdout",
     "output_type": "stream",
     "text": [
      "200\n"
     ]
    }
   ],
   "source": [
    "trans4=[]\n",
    "for i in teks4:    \n",
    "    translated = translator.translate(i, dest='en').text\n",
    "    trans4.append(translated)\n",
    "print(len(trans4))"
   ]
  },
  {
   "cell_type": "code",
   "execution_count": 102,
   "metadata": {},
   "outputs": [
    {
     "name": "stdout",
     "output_type": "stream",
     "text": [
      "200\n"
     ]
    }
   ],
   "source": [
    "trans5=[]\n",
    "for i in teks4:    \n",
    "    translated = translator.translate(i, dest='en').text\n",
    "    trans5.append(translated)\n",
    "print(len(trans5))"
   ]
  },
  {
   "cell_type": "code",
   "execution_count": 105,
   "metadata": {},
   "outputs": [
    {
     "name": "stdout",
     "output_type": "stream",
     "text": [
      "200\n"
     ]
    }
   ],
   "source": [
    "trans6=[]\n",
    "for i in teks6:    \n",
    "    translated = translator.translate(i, dest='en').text\n",
    "    trans6.append(translated)\n",
    "print(len(trans6))"
   ]
  },
  {
   "cell_type": "code",
   "execution_count": 106,
   "metadata": {},
   "outputs": [
    {
     "name": "stdout",
     "output_type": "stream",
     "text": [
      "200\n"
     ]
    }
   ],
   "source": [
    "trans7=[]\n",
    "for i in teks7:    \n",
    "    translated = translator.translate(i, dest='en').text\n",
    "    trans7.append(translated)\n",
    "print(len(trans7))"
   ]
  },
  {
   "cell_type": "code",
   "execution_count": 108,
   "metadata": {},
   "outputs": [
    {
     "name": "stdout",
     "output_type": "stream",
     "text": [
      "200\n"
     ]
    }
   ],
   "source": [
    "trans8=[]\n",
    "for i in teks8:    \n",
    "    translated = translator.translate(i, dest='en').text\n",
    "    trans8.append(translated)\n",
    "print(len(trans8))"
   ]
  },
  {
   "cell_type": "code",
   "execution_count": 110,
   "metadata": {},
   "outputs": [
    {
     "name": "stdout",
     "output_type": "stream",
     "text": [
      "200\n"
     ]
    }
   ],
   "source": [
    "trans9=[]\n",
    "for i in teks9:    \n",
    "    translated = translator.translate(i, dest='en').text\n",
    "    trans9.append(translated)\n",
    "print(len(trans9))"
   ]
  },
  {
   "cell_type": "code",
   "execution_count": 112,
   "metadata": {},
   "outputs": [
    {
     "name": "stdout",
     "output_type": "stream",
     "text": [
      "161\n"
     ]
    }
   ],
   "source": [
    "trans10=[]\n",
    "for i in teks10:    \n",
    "    translated = translator.translate(i, dest='en').text\n",
    "    trans10.append(translated)\n",
    "print(len(trans10))"
   ]
  },
  {
   "cell_type": "code",
   "execution_count": 114,
   "metadata": {},
   "outputs": [
    {
     "data": {
      "text/plain": [
       "1961"
      ]
     },
     "execution_count": 114,
     "metadata": {},
     "output_type": "execute_result"
    }
   ],
   "source": [
    "trans = trans1+trans2+trans3+trans4+trans5+trans6+trans7+trans8+trans9+trans10\n",
    "len(trans)"
   ]
  },
  {
   "cell_type": "code",
   "execution_count": 115,
   "metadata": {},
   "outputs": [
    {
     "name": "stdout",
     "output_type": "stream",
     "text": [
      "The list after removing duplicates : 1760\n"
     ]
    }
   ],
   "source": [
    "# to remove duplicated \n",
    "# from list \n",
    "res = []\n",
    "for i in trans:\n",
    "    if i not in res:\n",
    "        res.append(i)\n",
    "  \n",
    "# printing list after removal \n",
    "print (\"The list after removing duplicates : \" + str(len(res)))"
   ]
  },
  {
   "cell_type": "code",
   "execution_count": 116,
   "metadata": {},
   "outputs": [
    {
     "name": "stdout",
     "output_type": "stream",
     "text": [
      "1961\n"
     ]
    }
   ],
   "source": [
    "print(len(trans))"
   ]
  },
  {
   "cell_type": "code",
   "execution_count": 117,
   "metadata": {},
   "outputs": [],
   "source": [
    "translate = pd.DataFrame(trans)\n",
    "removdupl = pd.DataFrame(res)"
   ]
  },
  {
   "cell_type": "code",
   "execution_count": 118,
   "metadata": {},
   "outputs": [],
   "source": [
    "translate.to_excel (r'.\\translate.xlsx', index = False, header=True)\n",
    "removdupl.to_excel (r'.\\removdupl.xlsx', index = False, header=True)"
   ]
  }
 ],
 "metadata": {
  "interpreter": {
   "hash": "bc753de6c0fe96308418b3e1a92dd87274b3e577e3c2e3cde0c9443477684ef3"
  },
  "kernelspec": {
   "display_name": "Python 3.9.7 ('base')",
   "language": "python",
   "name": "python3"
  },
  "language_info": {
   "codemirror_mode": {
    "name": "ipython",
    "version": 3
   },
   "file_extension": ".py",
   "mimetype": "text/x-python",
   "name": "python",
   "nbconvert_exporter": "python",
   "pygments_lexer": "ipython3",
   "version": "3.9.7"
  },
  "orig_nbformat": 4
 },
 "nbformat": 4,
 "nbformat_minor": 2
}
