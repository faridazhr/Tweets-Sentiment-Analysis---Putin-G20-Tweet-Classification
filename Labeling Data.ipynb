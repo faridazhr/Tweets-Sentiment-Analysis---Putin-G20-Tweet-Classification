{
 "cells": [
  {
   "cell_type": "code",
   "execution_count": 35,
   "metadata": {},
   "outputs": [],
   "source": [
    "# %pip install textblob"
   ]
  },
  {
   "cell_type": "code",
   "execution_count": 36,
   "metadata": {},
   "outputs": [],
   "source": [
    "import pandas as pd\n",
    "from textblob import TextBlob"
   ]
  },
  {
   "cell_type": "markdown",
   "metadata": {},
   "source": [
    "**LABELING DENGAN TEXTBLOB**"
   ]
  },
  {
   "cell_type": "code",
   "execution_count": 37,
   "metadata": {},
   "outputs": [],
   "source": [
    "def getSubjectivity(review):\n",
    "    return TextBlob(review).sentiment.subjectivity\n",
    "\n",
    "def getPolarity(review):\n",
    "    return TextBlob(review).sentiment.polarity\n",
    "\n",
    "def analyze(score):\n",
    "    if score < 0:\n",
    "        return 'Negative'\n",
    "    elif score == 0:\n",
    "        return 'Neutral'\n",
    "    else:\n",
    "        return 'Positive'\n"
   ]
  },
  {
   "cell_type": "code",
   "execution_count": 38,
   "metadata": {},
   "outputs": [
    {
     "data": {
      "text/html": [
       "<div>\n",
       "<style scoped>\n",
       "    .dataframe tbody tr th:only-of-type {\n",
       "        vertical-align: middle;\n",
       "    }\n",
       "\n",
       "    .dataframe tbody tr th {\n",
       "        vertical-align: top;\n",
       "    }\n",
       "\n",
       "    .dataframe thead th {\n",
       "        text-align: right;\n",
       "    }\n",
       "</style>\n",
       "<table border=\"1\" class=\"dataframe\">\n",
       "  <thead>\n",
       "    <tr style=\"text-align: right;\">\n",
       "      <th></th>\n",
       "      <th>created</th>\n",
       "      <th>screenName</th>\n",
       "      <th>text</th>\n",
       "    </tr>\n",
       "  </thead>\n",
       "  <tbody>\n",
       "    <tr>\n",
       "      <th>0</th>\n",
       "      <td>2022-04-30 08:20:38</td>\n",
       "      <td>koshuisagara3</td>\n",
       "      <td>@SNMilitary Welcome Rusia to bali on G20, 🇮🇩  ...</td>\n",
       "    </tr>\n",
       "    <tr>\n",
       "      <th>1</th>\n",
       "      <td>2022-04-29 11:33:27</td>\n",
       "      <td>svnhvn</td>\n",
       "      <td>@Levi_godman Why that would be the greatest tr...</td>\n",
       "    </tr>\n",
       "    <tr>\n",
       "      <th>2</th>\n",
       "      <td>2022-04-26 12:55:28</td>\n",
       "      <td>mergwenthurs</td>\n",
       "      <td>RT @Trystanto2: My take on why Russia AND Ukra...</td>\n",
       "    </tr>\n",
       "    <tr>\n",
       "      <th>3</th>\n",
       "      <td>2022-04-30 22:11:35</td>\n",
       "      <td>BpBparker44</td>\n",
       "      <td>RT @zismo64: @PalmerReport Isn't there a $1 mi...</td>\n",
       "    </tr>\n",
       "    <tr>\n",
       "      <th>4</th>\n",
       "      <td>2022-04-30 22:11:10</td>\n",
       "      <td>taracas</td>\n",
       "      <td>RT @covie_93: Why the hell was putin invited t...</td>\n",
       "    </tr>\n",
       "  </tbody>\n",
       "</table>\n",
       "</div>"
      ],
      "text/plain": [
       "              created     screenName  \\\n",
       "0 2022-04-30 08:20:38  koshuisagara3   \n",
       "1 2022-04-29 11:33:27         svnhvn   \n",
       "2 2022-04-26 12:55:28   mergwenthurs   \n",
       "3 2022-04-30 22:11:35    BpBparker44   \n",
       "4 2022-04-30 22:11:10        taracas   \n",
       "\n",
       "                                                text  \n",
       "0  @SNMilitary Welcome Rusia to bali on G20, 🇮🇩  ...  \n",
       "1  @Levi_godman Why that would be the greatest tr...  \n",
       "2  RT @Trystanto2: My take on why Russia AND Ukra...  \n",
       "3  RT @zismo64: @PalmerReport Isn't there a $1 mi...  \n",
       "4  RT @covie_93: Why the hell was putin invited t...  "
      ]
     },
     "execution_count": 38,
     "metadata": {},
     "output_type": "execute_result"
    }
   ],
   "source": [
    "df = pd.read_excel (r'.\\Clean Data-PutinG20.xlsx')\n",
    "df.head()"
   ]
  },
  {
   "cell_type": "code",
   "execution_count": 39,
   "metadata": {},
   "outputs": [
    {
     "data": {
      "text/html": [
       "<div>\n",
       "<style scoped>\n",
       "    .dataframe tbody tr th:only-of-type {\n",
       "        vertical-align: middle;\n",
       "    }\n",
       "\n",
       "    .dataframe tbody tr th {\n",
       "        vertical-align: top;\n",
       "    }\n",
       "\n",
       "    .dataframe thead th {\n",
       "        text-align: right;\n",
       "    }\n",
       "</style>\n",
       "<table border=\"1\" class=\"dataframe\">\n",
       "  <thead>\n",
       "    <tr style=\"text-align: right;\">\n",
       "      <th></th>\n",
       "      <th>created</th>\n",
       "      <th>screenName</th>\n",
       "      <th>text</th>\n",
       "      <th>Subjectivity</th>\n",
       "      <th>Polarity</th>\n",
       "      <th>TextBlobLabel</th>\n",
       "    </tr>\n",
       "  </thead>\n",
       "  <tbody>\n",
       "    <tr>\n",
       "      <th>0</th>\n",
       "      <td>2022-04-30 08:20:38</td>\n",
       "      <td>koshuisagara3</td>\n",
       "      <td>@SNMilitary Welcome Rusia to bali on G20, 🇮🇩  ...</td>\n",
       "      <td>0.900</td>\n",
       "      <td>0.8</td>\n",
       "      <td>Positive</td>\n",
       "    </tr>\n",
       "    <tr>\n",
       "      <th>1</th>\n",
       "      <td>2022-04-29 11:33:27</td>\n",
       "      <td>svnhvn</td>\n",
       "      <td>@Levi_godman Why that would be the greatest tr...</td>\n",
       "      <td>0.475</td>\n",
       "      <td>0.4</td>\n",
       "      <td>Positive</td>\n",
       "    </tr>\n",
       "    <tr>\n",
       "      <th>2</th>\n",
       "      <td>2022-04-26 12:55:28</td>\n",
       "      <td>mergwenthurs</td>\n",
       "      <td>RT @Trystanto2: My take on why Russia AND Ukra...</td>\n",
       "      <td>0.200</td>\n",
       "      <td>0.2</td>\n",
       "      <td>Positive</td>\n",
       "    </tr>\n",
       "    <tr>\n",
       "      <th>3</th>\n",
       "      <td>2022-04-30 22:11:35</td>\n",
       "      <td>BpBparker44</td>\n",
       "      <td>RT @zismo64: @PalmerReport Isn't there a $1 mi...</td>\n",
       "      <td>0.000</td>\n",
       "      <td>0.0</td>\n",
       "      <td>Neutral</td>\n",
       "    </tr>\n",
       "    <tr>\n",
       "      <th>4</th>\n",
       "      <td>2022-04-30 22:11:10</td>\n",
       "      <td>taracas</td>\n",
       "      <td>RT @covie_93: Why the hell was putin invited t...</td>\n",
       "      <td>0.000</td>\n",
       "      <td>0.0</td>\n",
       "      <td>Neutral</td>\n",
       "    </tr>\n",
       "  </tbody>\n",
       "</table>\n",
       "</div>"
      ],
      "text/plain": [
       "              created     screenName  \\\n",
       "0 2022-04-30 08:20:38  koshuisagara3   \n",
       "1 2022-04-29 11:33:27         svnhvn   \n",
       "2 2022-04-26 12:55:28   mergwenthurs   \n",
       "3 2022-04-30 22:11:35    BpBparker44   \n",
       "4 2022-04-30 22:11:10        taracas   \n",
       "\n",
       "                                                text  Subjectivity  Polarity  \\\n",
       "0  @SNMilitary Welcome Rusia to bali on G20, 🇮🇩  ...         0.900       0.8   \n",
       "1  @Levi_godman Why that would be the greatest tr...         0.475       0.4   \n",
       "2  RT @Trystanto2: My take on why Russia AND Ukra...         0.200       0.2   \n",
       "3  RT @zismo64: @PalmerReport Isn't there a $1 mi...         0.000       0.0   \n",
       "4  RT @covie_93: Why the hell was putin invited t...         0.000       0.0   \n",
       "\n",
       "  TextBlobLabel  \n",
       "0      Positive  \n",
       "1      Positive  \n",
       "2      Positive  \n",
       "3       Neutral  \n",
       "4       Neutral  "
      ]
     },
     "execution_count": 39,
     "metadata": {},
     "output_type": "execute_result"
    }
   ],
   "source": [
    "df['Subjectivity'] = df['text'].apply(getSubjectivity)\n",
    "df['Polarity'] = df['text'].apply(getPolarity)\n",
    "df['TextBlobLabel'] = df['Polarity'].apply(analyze)\n",
    "df.head()"
   ]
  },
  {
   "cell_type": "code",
   "execution_count": 40,
   "metadata": {},
   "outputs": [
    {
     "name": "stdout",
     "output_type": "stream",
     "text": [
      "Neutral     10014\n",
      "Positive     1324\n",
      "Negative     1124\n",
      "Name: TextBlobLabel, dtype: int64\n"
     ]
    }
   ],
   "source": [
    "tb_count = df.TextBlobLabel.value_counts()\n",
    "print(tb_count)"
   ]
  },
  {
   "cell_type": "markdown",
   "metadata": {},
   "source": [
    "**LABELING DENGAN VADER**"
   ]
  },
  {
   "cell_type": "code",
   "execution_count": 41,
   "metadata": {},
   "outputs": [],
   "source": [
    "# %pip install vaderSentiment"
   ]
  },
  {
   "cell_type": "code",
   "execution_count": 42,
   "metadata": {},
   "outputs": [],
   "source": [
    "from vaderSentiment.vaderSentiment import SentimentIntensityAnalyzer"
   ]
  },
  {
   "cell_type": "code",
   "execution_count": 43,
   "metadata": {},
   "outputs": [],
   "source": [
    "analyzer = SentimentIntensityAnalyzer()\n",
    "\n",
    "def vaderSentimentAnalysis(review):\n",
    "    vs = analyzer.polarity_scores(review)\n",
    "    return vs['compound']\n",
    "    "
   ]
  },
  {
   "cell_type": "code",
   "execution_count": 44,
   "metadata": {},
   "outputs": [
    {
     "data": {
      "text/html": [
       "<div>\n",
       "<style scoped>\n",
       "    .dataframe tbody tr th:only-of-type {\n",
       "        vertical-align: middle;\n",
       "    }\n",
       "\n",
       "    .dataframe tbody tr th {\n",
       "        vertical-align: top;\n",
       "    }\n",
       "\n",
       "    .dataframe thead th {\n",
       "        text-align: right;\n",
       "    }\n",
       "</style>\n",
       "<table border=\"1\" class=\"dataframe\">\n",
       "  <thead>\n",
       "    <tr style=\"text-align: right;\">\n",
       "      <th></th>\n",
       "      <th>created</th>\n",
       "      <th>screenName</th>\n",
       "      <th>text</th>\n",
       "      <th>Subjectivity</th>\n",
       "      <th>Polarity</th>\n",
       "      <th>TextBlobLabel</th>\n",
       "      <th>Vader Sentiment</th>\n",
       "    </tr>\n",
       "  </thead>\n",
       "  <tbody>\n",
       "    <tr>\n",
       "      <th>0</th>\n",
       "      <td>2022-04-30 08:20:38</td>\n",
       "      <td>koshuisagara3</td>\n",
       "      <td>@SNMilitary Welcome Rusia to bali on G20, 🇮🇩  ...</td>\n",
       "      <td>0.900</td>\n",
       "      <td>0.8</td>\n",
       "      <td>Positive</td>\n",
       "      <td>0.4588</td>\n",
       "    </tr>\n",
       "    <tr>\n",
       "      <th>1</th>\n",
       "      <td>2022-04-29 11:33:27</td>\n",
       "      <td>svnhvn</td>\n",
       "      <td>@Levi_godman Why that would be the greatest tr...</td>\n",
       "      <td>0.475</td>\n",
       "      <td>0.4</td>\n",
       "      <td>Positive</td>\n",
       "      <td>0.8176</td>\n",
       "    </tr>\n",
       "    <tr>\n",
       "      <th>2</th>\n",
       "      <td>2022-04-26 12:55:28</td>\n",
       "      <td>mergwenthurs</td>\n",
       "      <td>RT @Trystanto2: My take on why Russia AND Ukra...</td>\n",
       "      <td>0.200</td>\n",
       "      <td>0.2</td>\n",
       "      <td>Positive</td>\n",
       "      <td>0.0000</td>\n",
       "    </tr>\n",
       "    <tr>\n",
       "      <th>3</th>\n",
       "      <td>2022-04-30 22:11:35</td>\n",
       "      <td>BpBparker44</td>\n",
       "      <td>RT @zismo64: @PalmerReport Isn't there a $1 mi...</td>\n",
       "      <td>0.000</td>\n",
       "      <td>0.0</td>\n",
       "      <td>Neutral</td>\n",
       "      <td>-0.4767</td>\n",
       "    </tr>\n",
       "    <tr>\n",
       "      <th>4</th>\n",
       "      <td>2022-04-30 22:11:10</td>\n",
       "      <td>taracas</td>\n",
       "      <td>RT @covie_93: Why the hell was putin invited t...</td>\n",
       "      <td>0.000</td>\n",
       "      <td>0.0</td>\n",
       "      <td>Neutral</td>\n",
       "      <td>-0.7303</td>\n",
       "    </tr>\n",
       "  </tbody>\n",
       "</table>\n",
       "</div>"
      ],
      "text/plain": [
       "              created     screenName  \\\n",
       "0 2022-04-30 08:20:38  koshuisagara3   \n",
       "1 2022-04-29 11:33:27         svnhvn   \n",
       "2 2022-04-26 12:55:28   mergwenthurs   \n",
       "3 2022-04-30 22:11:35    BpBparker44   \n",
       "4 2022-04-30 22:11:10        taracas   \n",
       "\n",
       "                                                text  Subjectivity  Polarity  \\\n",
       "0  @SNMilitary Welcome Rusia to bali on G20, 🇮🇩  ...         0.900       0.8   \n",
       "1  @Levi_godman Why that would be the greatest tr...         0.475       0.4   \n",
       "2  RT @Trystanto2: My take on why Russia AND Ukra...         0.200       0.2   \n",
       "3  RT @zismo64: @PalmerReport Isn't there a $1 mi...         0.000       0.0   \n",
       "4  RT @covie_93: Why the hell was putin invited t...         0.000       0.0   \n",
       "\n",
       "  TextBlobLabel  Vader Sentiment  \n",
       "0      Positive           0.4588  \n",
       "1      Positive           0.8176  \n",
       "2      Positive           0.0000  \n",
       "3       Neutral          -0.4767  \n",
       "4       Neutral          -0.7303  "
      ]
     },
     "execution_count": 44,
     "metadata": {},
     "output_type": "execute_result"
    }
   ],
   "source": [
    "df['Vader Sentiment'] = df['text'].apply(vaderSentimentAnalysis)\n",
    "df.head()"
   ]
  },
  {
   "cell_type": "code",
   "execution_count": 50,
   "metadata": {},
   "outputs": [
    {
     "data": {
      "text/html": [
       "<div>\n",
       "<style scoped>\n",
       "    .dataframe tbody tr th:only-of-type {\n",
       "        vertical-align: middle;\n",
       "    }\n",
       "\n",
       "    .dataframe tbody tr th {\n",
       "        vertical-align: top;\n",
       "    }\n",
       "\n",
       "    .dataframe thead th {\n",
       "        text-align: right;\n",
       "    }\n",
       "</style>\n",
       "<table border=\"1\" class=\"dataframe\">\n",
       "  <thead>\n",
       "    <tr style=\"text-align: right;\">\n",
       "      <th></th>\n",
       "      <th>created</th>\n",
       "      <th>screenName</th>\n",
       "      <th>text</th>\n",
       "      <th>Subjectivity</th>\n",
       "      <th>Polarity</th>\n",
       "      <th>TextBlobLabel</th>\n",
       "      <th>Vader Sentiment</th>\n",
       "      <th>vaderLabel</th>\n",
       "    </tr>\n",
       "  </thead>\n",
       "  <tbody>\n",
       "    <tr>\n",
       "      <th>0</th>\n",
       "      <td>2022-04-30 08:20:38</td>\n",
       "      <td>koshuisagara3</td>\n",
       "      <td>@SNMilitary Welcome Rusia to bali on G20, 🇮🇩  ...</td>\n",
       "      <td>0.900</td>\n",
       "      <td>0.8</td>\n",
       "      <td>Positive</td>\n",
       "      <td>0.4588</td>\n",
       "      <td>Positive</td>\n",
       "    </tr>\n",
       "    <tr>\n",
       "      <th>1</th>\n",
       "      <td>2022-04-29 11:33:27</td>\n",
       "      <td>svnhvn</td>\n",
       "      <td>@Levi_godman Why that would be the greatest tr...</td>\n",
       "      <td>0.475</td>\n",
       "      <td>0.4</td>\n",
       "      <td>Positive</td>\n",
       "      <td>0.8176</td>\n",
       "      <td>Positive</td>\n",
       "    </tr>\n",
       "    <tr>\n",
       "      <th>2</th>\n",
       "      <td>2022-04-26 12:55:28</td>\n",
       "      <td>mergwenthurs</td>\n",
       "      <td>RT @Trystanto2: My take on why Russia AND Ukra...</td>\n",
       "      <td>0.200</td>\n",
       "      <td>0.2</td>\n",
       "      <td>Positive</td>\n",
       "      <td>0.0000</td>\n",
       "      <td>Neutral</td>\n",
       "    </tr>\n",
       "    <tr>\n",
       "      <th>3</th>\n",
       "      <td>2022-04-30 22:11:35</td>\n",
       "      <td>BpBparker44</td>\n",
       "      <td>RT @zismo64: @PalmerReport Isn't there a $1 mi...</td>\n",
       "      <td>0.000</td>\n",
       "      <td>0.0</td>\n",
       "      <td>Neutral</td>\n",
       "      <td>-0.4767</td>\n",
       "      <td>Negative</td>\n",
       "    </tr>\n",
       "    <tr>\n",
       "      <th>4</th>\n",
       "      <td>2022-04-30 22:11:10</td>\n",
       "      <td>taracas</td>\n",
       "      <td>RT @covie_93: Why the hell was putin invited t...</td>\n",
       "      <td>0.000</td>\n",
       "      <td>0.0</td>\n",
       "      <td>Neutral</td>\n",
       "      <td>-0.7303</td>\n",
       "      <td>Negative</td>\n",
       "    </tr>\n",
       "  </tbody>\n",
       "</table>\n",
       "</div>"
      ],
      "text/plain": [
       "              created     screenName  \\\n",
       "0 2022-04-30 08:20:38  koshuisagara3   \n",
       "1 2022-04-29 11:33:27         svnhvn   \n",
       "2 2022-04-26 12:55:28   mergwenthurs   \n",
       "3 2022-04-30 22:11:35    BpBparker44   \n",
       "4 2022-04-30 22:11:10        taracas   \n",
       "\n",
       "                                                text  Subjectivity  Polarity  \\\n",
       "0  @SNMilitary Welcome Rusia to bali on G20, 🇮🇩  ...         0.900       0.8   \n",
       "1  @Levi_godman Why that would be the greatest tr...         0.475       0.4   \n",
       "2  RT @Trystanto2: My take on why Russia AND Ukra...         0.200       0.2   \n",
       "3  RT @zismo64: @PalmerReport Isn't there a $1 mi...         0.000       0.0   \n",
       "4  RT @covie_93: Why the hell was putin invited t...         0.000       0.0   \n",
       "\n",
       "  TextBlobLabel  Vader Sentiment vaderLabel  \n",
       "0      Positive           0.4588   Positive  \n",
       "1      Positive           0.8176   Positive  \n",
       "2      Positive           0.0000    Neutral  \n",
       "3       Neutral          -0.4767   Negative  \n",
       "4       Neutral          -0.7303   Negative  "
      ]
     },
     "execution_count": 50,
     "metadata": {},
     "output_type": "execute_result"
    }
   ],
   "source": [
    "def vader_analysis(compound):\n",
    "    if compound > 0:\n",
    "        return 'Positive'\n",
    "    elif compound < 0:\n",
    "        return 'Negative'\n",
    "    else:\n",
    "        return 'Neutral'\n",
    "\n",
    "df['vaderLabel'] = df['Vader Sentiment'].apply(vader_analysis)\n",
    "df.head()"
   ]
  },
  {
   "cell_type": "code",
   "execution_count": 51,
   "metadata": {},
   "outputs": [
    {
     "name": "stdout",
     "output_type": "stream",
     "text": [
      "Neutral     5866\n",
      "Negative    4921\n",
      "Positive    1675\n",
      "Name: vaderLabel, dtype: int64\n"
     ]
    }
   ],
   "source": [
    "vl_count = df.vaderLabel.value_counts()\n",
    "print(vl_count)"
   ]
  },
  {
   "cell_type": "code",
   "execution_count": 52,
   "metadata": {},
   "outputs": [],
   "source": [
    "df.to_excel (r'.\\Data Label-PutinG20.xlsx', index = False, header=True)"
   ]
  },
  {
   "cell_type": "code",
   "execution_count": null,
   "metadata": {},
   "outputs": [
    {
     "name": "stdout",
     "output_type": "stream",
     "text": [
      "RT : My take on why Russia AND Ukraine must be invited to the G20 (plus my rebuttal on the G20 is an economic forum, not a poli…\n"
     ]
    }
   ],
   "source": [
    "import re\n",
    "my_string = \"RT @Trystanto2: My take on why Russia AND Ukraine must be invited to the G20 (plus my rebuttal on the G20 is an economic forum, not a poli…\"\n",
    "final_string = re.sub('(?<=\\s)@[\\w]+|(?<=^)@[\\w]+', '', my_string)\n",
    "print(final_string)"
   ]
  }
 ],
 "metadata": {
  "interpreter": {
   "hash": "bc753de6c0fe96308418b3e1a92dd87274b3e577e3c2e3cde0c9443477684ef3"
  },
  "kernelspec": {
   "display_name": "Python 3.9.7 ('base')",
   "language": "python",
   "name": "python3"
  },
  "language_info": {
   "codemirror_mode": {
    "name": "ipython",
    "version": 3
   },
   "file_extension": ".py",
   "mimetype": "text/x-python",
   "name": "python",
   "nbconvert_exporter": "python",
   "pygments_lexer": "ipython3",
   "version": "3.9.7"
  },
  "orig_nbformat": 4
 },
 "nbformat": 4,
 "nbformat_minor": 2
}
